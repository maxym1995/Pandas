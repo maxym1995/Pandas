{
 "cells": [
  {
   "cell_type": "code",
   "execution_count": null,
   "id": "e64b58c7",
   "metadata": {},
   "outputs": [],
   "source": [
    "#Weather Observation Station 4\n",
    "select count(city) - count(distinct city) from station"
   ]
  },
  {
   "cell_type": "code",
   "execution_count": null,
   "id": "e59de689",
   "metadata": {},
   "outputs": [],
   "source": [
    "#Type of triangle\n",
    "select case\n",
    "when a+b <= c or b+c <=  a or a+c <= b then 'Not A Triangle'\n",
    "when a=b and b=c then 'Equilateral'\n",
    "when a=b or a=c or c=b then 'Isosceles'\n",
    "else 'Scalene'\n",
    "end\n",
    "from triangles"
   ]
  },
  {
   "cell_type": "code",
   "execution_count": null,
   "id": "0de9b6b6",
   "metadata": {},
   "outputs": [],
   "source": [
    "#average population\n",
    "#https://www.hackerrank.com/challenges/average-population/problem?isFullScreen=true\n",
    "select floor(avg(population)) from city"
   ]
  },
  {
   "cell_type": "code",
   "execution_count": null,
   "id": "bf5ca4bc",
   "metadata": {},
   "outputs": [],
   "source": [
    "#TopEarners\n",
    "#https://www.hackerrank.com/challenges/earnings-of-employees/problem?isFullScreen=true\n",
    "select max(salary*months), count(salary*months) from employee\n",
    "where salary*months = \n",
    "(select max(salary*months) from employee) "
   ]
  },
  {
   "cell_type": "code",
   "execution_count": null,
   "id": "ede4241b",
   "metadata": {},
   "outputs": [],
   "source": [
    "#Weather Observation Station 19\n",
    "#https://www.hackerrank.com/challenges/weather-observation-station-19/problem?isFullScreen=true\n",
    "select round((power((power((max(lat_n)-min(lat_n)),2) + power((max(long_w)-min(long_w)),2)),0.5)),4) from station"
   ]
  },
  {
   "cell_type": "code",
   "execution_count": null,
   "id": "decff937",
   "metadata": {},
   "outputs": [],
   "source": []
  },
  {
   "cell_type": "code",
   "execution_count": null,
   "id": "6620b784",
   "metadata": {},
   "outputs": [],
   "source": []
  }
 ],
 "metadata": {
  "kernelspec": {
   "display_name": "Python 3 (ipykernel)",
   "language": "python",
   "name": "python3"
  },
  "language_info": {
   "codemirror_mode": {
    "name": "ipython",
    "version": 3
   },
   "file_extension": ".py",
   "mimetype": "text/x-python",
   "name": "python",
   "nbconvert_exporter": "python",
   "pygments_lexer": "ipython3",
   "version": "3.9.7"
  }
 },
 "nbformat": 4,
 "nbformat_minor": 5
}
