{
 "cells": [
  {
   "cell_type": "code",
   "execution_count": 1,
   "id": "46528be8",
   "metadata": {},
   "outputs": [],
   "source": [
    "import pandas as pd\n",
    "import numpy as np\n",
    "import matplotlib.pyplot as plt\n",
    "import math as math\n",
    "import random as rnd"
   ]
  },
  {
   "cell_type": "code",
   "execution_count": 2,
   "id": "79108560",
   "metadata": {},
   "outputs": [
    {
     "data": {
      "text/plain": [
       "0       49\n",
       "1       62\n",
       "2       82\n",
       "3      100\n",
       "4       52\n",
       "      ... \n",
       "795    100\n",
       "796    160\n",
       "797    110\n",
       "798    160\n",
       "799    110\n",
       "Name: Attack, Length: 800, dtype: int64"
      ]
     },
     "execution_count": 2,
     "metadata": {},
     "output_type": "execute_result"
    }
   ],
   "source": [
    "pokemon = pd.read_csv(r'C:\\Users\\maxym\\Desktop\\cheatsheets\\pandas_anaconda_numpy\\course-files\\pokemon.csv', usecols =['Attack'], squeeze=True)\n",
    "pokemon\n",
    "# squeze = True powoduje, ze mamy data series a nie data frame"
   ]
  },
  {
   "cell_type": "code",
   "execution_count": 3,
   "id": "66d3f22f",
   "metadata": {},
   "outputs": [
    {
     "data": {
      "text/plain": [
       "0     49\n",
       "2     82\n",
       "57    45\n",
       "Name: Attack, dtype: int64"
      ]
     },
     "execution_count": 3,
     "metadata": {},
     "output_type": "execute_result"
    }
   ],
   "source": [
    "pokemon[[0,2,57]]"
   ]
  },
  {
   "cell_type": "code",
   "execution_count": 4,
   "id": "e47f8559",
   "metadata": {},
   "outputs": [
    {
     "data": {
      "text/plain": [
       "#\n",
       "1       49\n",
       "2       62\n",
       "3       82\n",
       "3      100\n",
       "4       52\n",
       "      ... \n",
       "719    100\n",
       "719    160\n",
       "720    110\n",
       "720    160\n",
       "721    110\n",
       "Name: Attack, Length: 800, dtype: int64"
      ]
     },
     "execution_count": 4,
     "metadata": {},
     "output_type": "execute_result"
    }
   ],
   "source": [
    "pokemon = pd.read_csv(r'C:\\Users\\maxym\\Desktop\\cheatsheets\\pandas_anaconda_numpy\\course-files\\pokemon.csv', usecols =['Attack','#'], squeeze=True, index_col='#')\n",
    "pokemon\n",
    "# trzeba bylo dodac kolumne do usecols i na koncu index_col# trzeba bylo dodac kolumne do usecols i na koncu index_col"
   ]
  },
  {
   "cell_type": "code",
   "execution_count": 5,
   "id": "52948f4b",
   "metadata": {},
   "outputs": [
    {
     "data": {
      "text/plain": [
       "Name\n",
       "Bulbasaur                 49\n",
       "Ivysaur                   62\n",
       "Venusaur                  82\n",
       "VenusaurMega Venusaur    100\n",
       "Charmander                52\n",
       "                        ... \n",
       "Diancie                  100\n",
       "DiancieMega Diancie      160\n",
       "HoopaHoopa Confined      110\n",
       "HoopaHoopa Unbound       160\n",
       "Volcanion                110\n",
       "Name: Attack, Length: 800, dtype: int64"
      ]
     },
     "execution_count": 5,
     "metadata": {},
     "output_type": "execute_result"
    }
   ],
   "source": [
    "pokemon = pd.read_csv(r'C:\\Users\\maxym\\Desktop\\cheatsheets\\pandas_anaconda_numpy\\course-files\\pokemon.csv', usecols =['Attack','Name'], squeeze=True, index_col='Name')\n",
    "pokemon\n",
    "# trzeba bylo dodac kolumne do usecols i na koncu index_col# trzeba bylo dodac kolumne do usecols i na koncu index_col"
   ]
  },
  {
   "cell_type": "code",
   "execution_count": 6,
   "id": "a2d1f867",
   "metadata": {},
   "outputs": [
    {
     "data": {
      "text/plain": [
       "49"
      ]
     },
     "execution_count": 6,
     "metadata": {},
     "output_type": "execute_result"
    }
   ],
   "source": [
    "pokemon['Bulbasaur']"
   ]
  },
  {
   "cell_type": "code",
   "execution_count": 7,
   "id": "619d77ef",
   "metadata": {},
   "outputs": [
    {
     "data": {
      "text/plain": [
       "Rank\n",
       "481           Booz Allen Hamilton Holding\n",
       "482                              Chemours\n",
       "483    Western & Southern Financial Group\n",
       "484                              Celanese\n",
       "485                   Windstream Holdings\n",
       "486                              Seaboard\n",
       "487                             Essendant\n",
       "488                                Apache\n",
       "489                                Airgas\n",
       "490                        Kelly Services\n",
       "491                         Liberty Media\n",
       "492                      Rockwell Collins\n",
       "493             Robert Half International\n",
       "494                             CH2M Hill\n",
       "495                              Big Lots\n",
       "496                         Michaels Cos.\n",
       "497                         Toll Brothers\n",
       "498                                 Yahoo\n",
       "499                         Vistra Energy\n",
       "500                        ABM Industries\n",
       "Name: Title, dtype: object"
      ]
     },
     "execution_count": 7,
     "metadata": {},
     "output_type": "execute_result"
    }
   ],
   "source": [
    "fortune500 = pd.read_csv(r'C:\\Users\\maxym\\Desktop\\cheatsheets\\pandas_anaconda_numpy\\course-files\\Fortune_500_2017.csv', usecols =['Rank','Title'], squeeze=True, index_col='Rank')\n",
    "fortune500.head(10)\n",
    "fortune500.tail(20)"
   ]
  },
  {
   "cell_type": "code",
   "execution_count": 8,
   "id": "1a0b794a",
   "metadata": {},
   "outputs": [],
   "source": [
    "fortune500_v2  = pd.read_csv(r'C:\\Users\\maxym\\Desktop\\cheatsheets\\pandas_anaconda_numpy\\course-files\\Fortune_500_2017.csv', usecols =['Employees','Title'], squeeze=True, index_col='Title')"
   ]
  },
  {
   "cell_type": "code",
   "execution_count": 9,
   "id": "274550de",
   "metadata": {},
   "outputs": [
    {
     "data": {
      "text/plain": [
       "Title\n",
       "Walmart               2300000\n",
       "Berkshire Hathaway     367700\n",
       "Apple                  116000\n",
       "Exxon Mobil             72700\n",
       "McKesson                68000\n",
       "                       ...   \n",
       "Michaels Cos.           31000\n",
       "Toll Brothers            4200\n",
       "Yahoo                    8500\n",
       "Vistra Energy            4431\n",
       "ABM Industries         110000\n",
       "Name: Employees, Length: 500, dtype: int64"
      ]
     },
     "execution_count": 9,
     "metadata": {},
     "output_type": "execute_result"
    }
   ],
   "source": [
    "fortune500_v2"
   ]
  },
  {
   "cell_type": "code",
   "execution_count": 10,
   "id": "4e65f424",
   "metadata": {},
   "outputs": [
    {
     "data": {
      "text/plain": [
       "116000"
      ]
     },
     "execution_count": 10,
     "metadata": {},
     "output_type": "execute_result"
    }
   ],
   "source": [
    "fortune500_v2.get('Apple')"
   ]
  },
  {
   "cell_type": "code",
   "execution_count": 11,
   "id": "d4f85de9",
   "metadata": {},
   "outputs": [
    {
     "data": {
      "text/plain": [
       "Title\n",
       "IBM                          414400\n",
       "State Farm Insurance Cos.     68234\n",
       "Phillips 66                   14800\n",
       "Johnson & Johnson            126400\n",
       "Procter & Gamble             105000\n",
       "Valero Energy                  9996\n",
       "Target                       323000\n",
       "Freddie Mac                    5982\n",
       "Lowe’s                       240000\n",
       "Dell Technologies            138000\n",
       "MetLife                       58000\n",
       "Aetna                         49500\n",
       "PepsiCo                      264000\n",
       "Archer Daniels Midland        31800\n",
       "UPS                          335520\n",
       "Intel                        106000\n",
       "Name: Employees, dtype: int64"
      ]
     },
     "execution_count": 11,
     "metadata": {},
     "output_type": "execute_result"
    }
   ],
   "source": [
    "fortune500_v2.loc['IBM':'Intel']"
   ]
  },
  {
   "cell_type": "markdown",
   "id": "8e7ce498",
   "metadata": {},
   "source": [
    "# dodatkowe metody DS"
   ]
  },
  {
   "cell_type": "code",
   "execution_count": 12,
   "id": "681a70ed",
   "metadata": {},
   "outputs": [
    {
     "data": {
      "text/plain": [
       "0         NaN\n",
       "1     70841.0\n",
       "2         NaN\n",
       "3         NaN\n",
       "4     21426.0\n",
       "5     41671.0\n",
       "6    120000.0\n",
       "7         NaN\n",
       "8    250000.0\n",
       "9         NaN\n",
       "Name: ConvertedSalary, dtype: float64"
      ]
     },
     "execution_count": 12,
     "metadata": {},
     "output_type": "execute_result"
    }
   ],
   "source": [
    "programmers = pd.read_csv(r'C:\\Users\\maxym\\Desktop\\cheatsheets\\pandas_anaconda_numpy\\course-files\\StackOverflowDeveloperSurvey2018.csv',low_memory=False, usecols =['ConvertedSalary'], squeeze=True)\n",
    "programmers.head(10)"
   ]
  },
  {
   "cell_type": "code",
   "execution_count": 13,
   "id": "2786f36f",
   "metadata": {},
   "outputs": [
    {
     "data": {
      "text/plain": [
       "95780.86178776571"
      ]
     },
     "execution_count": 13,
     "metadata": {},
     "output_type": "execute_result"
    }
   ],
   "source": [
    "programmers.mean()"
   ]
  },
  {
   "cell_type": "code",
   "execution_count": 14,
   "id": "3c7afe4a",
   "metadata": {},
   "outputs": [
    {
     "data": {
      "text/plain": [
       "55075.0"
      ]
     },
     "execution_count": 14,
     "metadata": {},
     "output_type": "execute_result"
    }
   ],
   "source": [
    "programmers.median()"
   ]
  },
  {
   "cell_type": "code",
   "execution_count": 15,
   "id": "9fbc327e",
   "metadata": {},
   "outputs": [
    {
     "data": {
      "text/plain": [
       "202348.21562528735"
      ]
     },
     "execution_count": 15,
     "metadata": {},
     "output_type": "execute_result"
    }
   ],
   "source": [
    "programmers.std()"
   ]
  },
  {
   "cell_type": "code",
   "execution_count": 16,
   "id": "34e32816",
   "metadata": {},
   "outputs": [
    {
     "data": {
      "text/plain": [
       "2000000.0"
      ]
     },
     "execution_count": 16,
     "metadata": {},
     "output_type": "execute_result"
    }
   ],
   "source": [
    "programmers.max()"
   ]
  },
  {
   "cell_type": "code",
   "execution_count": 17,
   "id": "126c891b",
   "metadata": {},
   "outputs": [
    {
     "data": {
      "text/plain": [
       "0.0"
      ]
     },
     "execution_count": 17,
     "metadata": {},
     "output_type": "execute_result"
    }
   ],
   "source": [
    "programmers.min()"
   ]
  },
  {
   "cell_type": "code",
   "execution_count": 18,
   "id": "a82c1663",
   "metadata": {},
   "outputs": [
    {
     "data": {
      "text/plain": [
       "Title\n",
       "Walmart               2300000\n",
       "Berkshire Hathaway     367700\n",
       "Apple                  116000\n",
       "Exxon Mobil             72700\n",
       "McKesson                68000\n",
       "UnitedHealth Group     230000\n",
       "CVS Health             204000\n",
       "General Motors         225000\n",
       "AT&T                   268540\n",
       "Ford Motor             201000\n",
       "Name: Employees, dtype: int64"
      ]
     },
     "execution_count": 18,
     "metadata": {},
     "output_type": "execute_result"
    }
   ],
   "source": [
    "fortune500_v3 = pd.read_csv(r'C:\\Users\\maxym\\Desktop\\cheatsheets\\pandas_anaconda_numpy\\course-files\\Fortune_500_2017.csv', usecols =['Employees','Title'], squeeze=True, index_col='Title')\n",
    "fortune500_v3.head(10)"
   ]
  },
  {
   "cell_type": "code",
   "execution_count": 19,
   "id": "bcffc81a",
   "metadata": {},
   "outputs": [
    {
     "data": {
      "text/plain": [
       "'A-Mark Precious Metals'"
      ]
     },
     "execution_count": 19,
     "metadata": {},
     "output_type": "execute_result"
    }
   ],
   "source": [
    "fortune500_v3.idxmin()"
   ]
  },
  {
   "cell_type": "code",
   "execution_count": 20,
   "id": "d07bb7be",
   "metadata": {},
   "outputs": [
    {
     "data": {
      "text/plain": [
       "'Walmart'"
      ]
     },
     "execution_count": 20,
     "metadata": {},
     "output_type": "execute_result"
    }
   ],
   "source": [
    "fortune500_v3.idxmax()"
   ]
  },
  {
   "cell_type": "code",
   "execution_count": 21,
   "id": "4a3fc006",
   "metadata": {},
   "outputs": [
    {
     "data": {
      "text/plain": [
       "2300000"
      ]
     },
     "execution_count": 21,
     "metadata": {},
     "output_type": "execute_result"
    }
   ],
   "source": [
    "fortune500_v3.get('Walmart')"
   ]
  },
  {
   "cell_type": "code",
   "execution_count": 22,
   "id": "d5dce955",
   "metadata": {},
   "outputs": [
    {
     "data": {
      "text/plain": [
       "2300000"
      ]
     },
     "execution_count": 22,
     "metadata": {},
     "output_type": "execute_result"
    }
   ],
   "source": [
    "fortune500_v3.get(fortune500_v3.idxmax())"
   ]
  },
  {
   "cell_type": "code",
   "execution_count": 23,
   "id": "d4335cb3",
   "metadata": {},
   "outputs": [
    {
     "data": {
      "text/plain": [
       "2300000"
      ]
     },
     "execution_count": 23,
     "metadata": {},
     "output_type": "execute_result"
    }
   ],
   "source": [
    "fortune500_v3.loc[fortune500_v3.idxmax()]"
   ]
  },
  {
   "cell_type": "markdown",
   "id": "fff51d0f",
   "metadata": {},
   "source": [
    "# modyfikacja serii danych"
   ]
  },
  {
   "cell_type": "code",
   "execution_count": 24,
   "id": "8ce8bf8d",
   "metadata": {},
   "outputs": [
    {
     "data": {
      "text/plain": [
       "2     113750.0\n",
       "14    100000.0\n",
       "17    130000.0\n",
       "18     82500.0\n",
       "22    100764.0\n",
       "Name: Salary, dtype: float64"
      ]
     },
     "execution_count": 24,
     "metadata": {},
     "output_type": "execute_result"
    }
   ],
   "source": [
    "surveys = pd.read_csv(r'C:\\Users\\maxym\\Desktop\\cheatsheets\\pandas_anaconda_numpy\\course-files\\StackOverflowDeveloperSurvey.csv', usecols =['Salary'], squeeze=True).dropna()\n",
    "surveys.head()"
   ]
  },
  {
   "cell_type": "code",
   "execution_count": 25,
   "id": "16d64b25",
   "metadata": {},
   "outputs": [
    {
     "data": {
      "text/plain": [
       "12891"
      ]
     },
     "execution_count": 25,
     "metadata": {},
     "output_type": "execute_result"
    }
   ],
   "source": [
    "surveys.count()"
   ]
  },
  {
   "cell_type": "code",
   "execution_count": 26,
   "id": "e9693671",
   "metadata": {},
   "outputs": [
    {
     "data": {
      "text/plain": [
       "12891"
      ]
     },
     "execution_count": 26,
     "metadata": {},
     "output_type": "execute_result"
    }
   ],
   "source": [
    "len(surveys)"
   ]
  },
  {
   "cell_type": "code",
   "execution_count": 27,
   "id": "55d35a3a",
   "metadata": {},
   "outputs": [
    {
     "data": {
      "text/plain": [
       "2     3412.50\n",
       "14    3000.00\n",
       "17    3900.00\n",
       "18    2475.00\n",
       "22    3022.92\n",
       "Name: Salary, dtype: float64"
      ]
     },
     "execution_count": 27,
     "metadata": {},
     "output_type": "execute_result"
    }
   ],
   "source": [
    "surveysslnycrease = pd.read_csv(r'C:\\Users\\maxym\\Desktop\\cheatsheets\\pandas_anaconda_numpy\\course-files\\StackOverflowDeveloperSurvey.csv', usecols =['Salary'], squeeze=True).dropna()\n",
    "surveysslnycrease = surveysslnycrease * 0.03\n",
    "surveysslnycrease.head()"
   ]
  },
  {
   "cell_type": "code",
   "execution_count": 28,
   "id": "6a74ef41",
   "metadata": {},
   "outputs": [
    {
     "data": {
      "text/plain": [
       "2     117162.50\n",
       "14    103000.00\n",
       "17    133900.00\n",
       "18     84975.00\n",
       "22    103786.92\n",
       "Name: Salary, dtype: float64"
      ]
     },
     "execution_count": 28,
     "metadata": {},
     "output_type": "execute_result"
    }
   ],
   "source": [
    "surveysAfterlncrease = surveysslnycrease + surveys\n",
    "surveysAfterlncrease.head()"
   ]
  },
  {
   "cell_type": "code",
   "execution_count": 29,
   "id": "d091bca6",
   "metadata": {},
   "outputs": [
    {
     "data": {
      "text/plain": [
       "0             1 - 2 hours\n",
       "1         30 - 59 minutes\n",
       "3    Less than 30 minutes\n",
       "4             1 - 2 hours\n",
       "5         30 - 59 minutes\n",
       "Name: HoursOutside, dtype: object"
      ]
     },
     "execution_count": 29,
     "metadata": {},
     "output_type": "execute_result"
    }
   ],
   "source": [
    "surveyTimes = pd.read_csv(r'C:\\Users\\maxym\\Desktop\\cheatsheets\\pandas_anaconda_numpy\\course-files\\StackOverflowDeveloperSurvey2018.csv', usecols =['HoursOutside'], squeeze=True, low_memory=False).dropna()\n",
    "surveyTimes.head()"
   ]
  },
  {
   "cell_type": "code",
   "execution_count": 30,
   "id": "e2a78f9c",
   "metadata": {},
   "outputs": [
    {
     "data": {
      "text/plain": [
       "1 - 2 hours             27788\n",
       "30 - 59 minutes         24002\n",
       "Less than 30 minutes    11223\n",
       "3 - 4 hours              7186\n",
       "Over 4 hours             1825\n",
       "Name: HoursOutside, dtype: int64"
      ]
     },
     "execution_count": 30,
     "metadata": {},
     "output_type": "execute_result"
    }
   ],
   "source": [
    "surveyTimes.value_counts()"
   ]
  },
  {
   "cell_type": "code",
   "execution_count": 31,
   "id": "521932e8",
   "metadata": {},
   "outputs": [
    {
     "data": {
      "text/plain": [
       "0             1 - 2 hours\n",
       "1         30 - 59 minutes\n",
       "3    Less than 30 minutes\n",
       "4             1 - 2 hours\n",
       "5         30 - 59 minutes\n",
       "Name: HoursOutside, dtype: object"
      ]
     },
     "execution_count": 31,
     "metadata": {},
     "output_type": "execute_result"
    }
   ],
   "source": [
    "surveyTimes.str.lower()\n",
    "surveyTimes.head()"
   ]
  },
  {
   "cell_type": "markdown",
   "id": "53667b69",
   "metadata": {},
   "source": [
    "# .str is needed for strings modifications"
   ]
  },
  {
   "cell_type": "code",
   "execution_count": 32,
   "id": "079aee8f",
   "metadata": {},
   "outputs": [
    {
     "data": {
      "text/plain": [
       "0                 1 - 2 HOURS\n",
       "1             30 - 59 MINUTES\n",
       "3        LESS THAN 30 MINUTES\n",
       "4                 1 - 2 HOURS\n",
       "5             30 - 59 MINUTES\n",
       "                 ...         \n",
       "93408             1 - 2 HOURS\n",
       "93416             3 - 4 HOURS\n",
       "93435             1 - 2 HOURS\n",
       "93442    LESS THAN 30 MINUTES\n",
       "93462             1 - 2 HOURS\n",
       "Name: HoursOutside, Length: 72024, dtype: object"
      ]
     },
     "execution_count": 32,
     "metadata": {},
     "output_type": "execute_result"
    }
   ],
   "source": [
    "surveyTimes.apply(lambda x : x.upper())"
   ]
  },
  {
   "cell_type": "code",
   "execution_count": 41,
   "id": "fc15b326",
   "metadata": {},
   "outputs": [],
   "source": [
    "def ChangeDescription(napis):\n",
    "    if napis == 'Less than 30 minutes':\n",
    "        return 'LESS THAN HALF HOUR'\n",
    "    else:\n",
    "        return napis"
   ]
  },
  {
   "cell_type": "code",
   "execution_count": 42,
   "id": "f7a21b5f",
   "metadata": {},
   "outputs": [
    {
     "data": {
      "text/plain": [
       "0            1 - 2 hours\n",
       "1        30 - 59 minutes\n",
       "3    LESS THAN HALF HOUR\n",
       "4            1 - 2 hours\n",
       "5        30 - 59 minutes\n",
       "Name: HoursOutside, dtype: object"
      ]
     },
     "execution_count": 42,
     "metadata": {},
     "output_type": "execute_result"
    }
   ],
   "source": [
    "surveyTimes.apply(ChangeDescription)\n",
    "surveyTimes.head()"
   ]
  },
  {
   "cell_type": "code",
   "execution_count": 43,
   "id": "3cda48c8",
   "metadata": {},
   "outputs": [
    {
     "data": {
      "text/plain": [
       "0            1 - 2 hours\n",
       "1        30 - 59 minutes\n",
       "3    LESS THAN HALF HOUR\n",
       "4            1 - 2 hours\n",
       "5        30 - 59 minutes\n",
       "Name: HoursOutside, dtype: object"
      ]
     },
     "execution_count": 43,
     "metadata": {},
     "output_type": "execute_result"
    }
   ],
   "source": [
    "surveyTimes = surveyTimes.apply(ChangeDescription)\n",
    "surveyTimes.head()"
   ]
  },
  {
   "cell_type": "markdown",
   "id": "f0ae06d5",
   "metadata": {},
   "source": [
    "# map function"
   ]
  },
  {
   "cell_type": "code",
   "execution_count": 36,
   "id": "ca7d30c7",
   "metadata": {},
   "outputs": [],
   "source": [
    "slownik = {'PYT001':'Airbus 320','PYT002':'Boeing737','PYT003':'Airbus 321'}"
   ]
  },
  {
   "cell_type": "code",
   "execution_count": 37,
   "id": "a68db7b8",
   "metadata": {},
   "outputs": [
    {
     "data": {
      "text/plain": [
       "PYT001    Airbus 320\n",
       "PYT002     Boeing737\n",
       "PYT003    Airbus 321\n",
       "dtype: object"
      ]
     },
     "execution_count": 37,
     "metadata": {},
     "output_type": "execute_result"
    }
   ],
   "source": [
    "aircrafts = pd.Series(slownik)\n",
    "aircrafts"
   ]
  },
  {
   "cell_type": "code",
   "execution_count": 38,
   "id": "c24e8f81",
   "metadata": {},
   "outputs": [
    {
     "data": {
      "text/plain": [
       "['PYT003', 'PYT003', 'PYT001', 'PYT003', 'PYT001']"
      ]
     },
     "execution_count": 38,
     "metadata": {},
     "output_type": "execute_result"
    }
   ],
   "source": [
    "filghtsList = []\n",
    "for i in range(100):\n",
    "    filghtsList.append(rnd.choice(aircrafts.index))\n",
    "filghtsList[:5]"
   ]
  },
  {
   "cell_type": "code",
   "execution_count": 39,
   "id": "8a4312f4",
   "metadata": {},
   "outputs": [
    {
     "data": {
      "text/plain": [
       "0    PYT003\n",
       "1    PYT003\n",
       "2    PYT001\n",
       "3    PYT003\n",
       "4    PYT001\n",
       "dtype: object"
      ]
     },
     "execution_count": 39,
     "metadata": {},
     "output_type": "execute_result"
    }
   ],
   "source": [
    "flights = pd.Series(filghtsList)\n",
    "flights.head()"
   ]
  },
  {
   "cell_type": "code",
   "execution_count": 40,
   "id": "e3a2121e",
   "metadata": {},
   "outputs": [
    {
     "data": {
      "text/plain": [
       "0     Airbus 321\n",
       "1     Airbus 321\n",
       "2     Airbus 320\n",
       "3     Airbus 321\n",
       "4     Airbus 320\n",
       "         ...    \n",
       "95    Airbus 320\n",
       "96     Boeing737\n",
       "97    Airbus 320\n",
       "98    Airbus 321\n",
       "99    Airbus 321\n",
       "Length: 100, dtype: object"
      ]
     },
     "execution_count": 40,
     "metadata": {},
     "output_type": "execute_result"
    }
   ],
   "source": [
    "flights.map(slownik)"
   ]
  },
  {
   "cell_type": "code",
   "execution_count": null,
   "id": "15e72751",
   "metadata": {},
   "outputs": [],
   "source": []
  }
 ],
 "metadata": {
  "kernelspec": {
   "display_name": "Python 3 (ipykernel)",
   "language": "python",
   "name": "python3"
  },
  "language_info": {
   "codemirror_mode": {
    "name": "ipython",
    "version": 3
   },
   "file_extension": ".py",
   "mimetype": "text/x-python",
   "name": "python",
   "nbconvert_exporter": "python",
   "pygments_lexer": "ipython3",
   "version": "3.9.7"
  }
 },
 "nbformat": 4,
 "nbformat_minor": 5
}
