{
 "cells": [
  {
   "cell_type": "markdown",
   "id": "b07ca563",
   "metadata": {},
   "source": [
    "# Important moduled"
   ]
  },
  {
   "cell_type": "markdown",
   "id": "ff8076d4",
   "metadata": {},
   "source": [
    "## Pandas"
   ]
  },
  {
   "cell_type": "markdown",
   "id": "61d429a9",
   "metadata": {},
   "source": [
    "- pandas jest *koks*\n",
    "- nie ma co [MORE DETAILS](HTTPS://WWW.HLTV.ORG)"
   ]
  },
  {
   "cell_type": "markdown",
   "id": "fdf60d6f",
   "metadata": {},
   "source": [
    "\n"
   ]
  },
  {
   "cell_type": "markdown",
   "id": "1efd9d4d",
   "metadata": {},
   "source": [
    "\n",
    "logo numpy ![LOGO](https://upload.wikimedia.org/wikipedia/commons/3/31/NumPy_logo_2020.svg)\n",
    "\n",
    "THIS IS MY CODE\n",
    "\n",
    "    for i in range(10):\n",
    "        print(i * 5)"
   ]
  },
  {
   "cell_type": "code",
   "execution_count": null,
   "id": "11b53f5f",
   "metadata": {},
   "outputs": [],
   "source": []
  }
 ],
 "metadata": {
  "kernelspec": {
   "display_name": "Python 3 (ipykernel)",
   "language": "python",
   "name": "python3"
  },
  "language_info": {
   "codemirror_mode": {
    "name": "ipython",
    "version": 3
   },
   "file_extension": ".py",
   "mimetype": "text/x-python",
   "name": "python",
   "nbconvert_exporter": "python",
   "pygments_lexer": "ipython3",
   "version": "3.9.7"
  }
 },
 "nbformat": 4,
 "nbformat_minor": 5
}
