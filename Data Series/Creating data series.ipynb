{
 "cells": [
  {
   "cell_type": "code",
   "execution_count": 6,
   "id": "57873c3e",
   "metadata": {},
   "outputs": [],
   "source": [
    "import pandas as pd\n",
    "import numpy as np\n",
    "import matplotlib.pyplot as plt\n",
    "import math as math"
   ]
  },
  {
   "cell_type": "code",
   "execution_count": 7,
   "id": "da5229bd",
   "metadata": {},
   "outputs": [
    {
     "data": {
      "text/plain": [
       "['London', 'Berlin', 'Warsaw', 'Paris']"
      ]
     },
     "execution_count": 7,
     "metadata": {},
     "output_type": "execute_result"
    }
   ],
   "source": [
    "cities = ['London','Berlin','Warsaw','Paris']\n",
    "cities"
   ]
  },
  {
   "cell_type": "code",
   "execution_count": 8,
   "id": "bb8a2418",
   "metadata": {},
   "outputs": [
    {
     "data": {
      "text/plain": [
       "0    London\n",
       "1    Berlin\n",
       "2    Warsaw\n",
       "3     Paris\n",
       "dtype: object"
      ]
     },
     "execution_count": 8,
     "metadata": {},
     "output_type": "execute_result"
    }
   ],
   "source": [
    "pd.Series(cities)"
   ]
  },
  {
   "cell_type": "code",
   "execution_count": 9,
   "id": "563a94d8",
   "metadata": {},
   "outputs": [
    {
     "data": {
      "text/plain": [
       "0     2\n",
       "1     3\n",
       "2     5\n",
       "3     7\n",
       "4    11\n",
       "5    13\n",
       "6    17\n",
       "7    19\n",
       "dtype: int64"
      ]
     },
     "execution_count": 9,
     "metadata": {},
     "output_type": "execute_result"
    }
   ],
   "source": [
    "primeNumbers = (2,3,5,7,11,13,17,19)\n",
    "pd.Series(primeNumbers)"
   ]
  },
  {
   "cell_type": "code",
   "execution_count": 10,
   "id": "547316ac",
   "metadata": {},
   "outputs": [
    {
     "data": {
      "text/plain": [
       "{'Harry Potter': 2001, 'Jedi': 2005, 'Actress': 2010}"
      ]
     },
     "execution_count": 10,
     "metadata": {},
     "output_type": "execute_result"
    }
   ],
   "source": [
    "films = {'Harry Potter' : 2001,\n",
    "        'Jedi':2005,\n",
    "        'Actress':2010}\n",
    "films"
   ]
  },
  {
   "cell_type": "code",
   "execution_count": 11,
   "id": "34f7376c",
   "metadata": {},
   "outputs": [
    {
     "data": {
      "text/plain": [
       "Harry Potter    2001\n",
       "Jedi            2005\n",
       "Actress         2010\n",
       "dtype: int64"
      ]
     },
     "execution_count": 11,
     "metadata": {},
     "output_type": "execute_result"
    }
   ],
   "source": [
    "pd.Series(films)"
   ]
  },
  {
   "cell_type": "code",
   "execution_count": 12,
   "id": "c6b045fd",
   "metadata": {},
   "outputs": [
    {
     "data": {
      "text/plain": [
       "0       Monday\n",
       "1      Tuesday\n",
       "2    Wednesday\n",
       "3     Thursday\n",
       "4       Friday\n",
       "5     Saturday\n",
       "6       Sunday\n",
       "dtype: object"
      ]
     },
     "execution_count": 12,
     "metadata": {},
     "output_type": "execute_result"
    }
   ],
   "source": [
    "weekdays = ['Monday','Tuesday','Wednesday','Thursday','Friday','Saturday','Sunday']\n",
    "weekdaysSeries = pd.Series(weekdays)\n",
    "weekdaysSeries"
   ]
  },
  {
   "cell_type": "code",
   "execution_count": 14,
   "id": "f36a20d0",
   "metadata": {},
   "outputs": [],
   "source": [
    "freeDays = [True,True,True,True,True,False,False]"
   ]
  },
  {
   "cell_type": "code",
   "execution_count": 17,
   "id": "4400f1b8",
   "metadata": {},
   "outputs": [
    {
     "data": {
      "text/plain": [
       "0     True\n",
       "1     True\n",
       "2     True\n",
       "3     True\n",
       "4     True\n",
       "5    False\n",
       "6    False\n",
       "dtype: bool"
      ]
     },
     "execution_count": 17,
     "metadata": {},
     "output_type": "execute_result"
    }
   ],
   "source": [
    "freeDaysSeries = pd.Series(freeDays)\n",
    "freeDaysSeries"
   ]
  },
  {
   "cell_type": "code",
   "execution_count": 22,
   "id": "088b82e1",
   "metadata": {},
   "outputs": [
    {
     "data": {
      "text/plain": [
       "New Year    2022-01-01\n",
       "Easter      2022-04-17\n",
       "My bd       2022-12-17\n",
       "dtype: object"
      ]
     },
     "execution_count": 22,
     "metadata": {},
     "output_type": "execute_result"
    }
   ],
   "source": [
    "holidays = {'New Year': '2022-01-01',\n",
    "           'Easter': '2022-04-17',\n",
    "           'My bd' : '2022-12-17'}\n",
    "\n",
    "holidaysSeries = pd.Series(holidays)\n",
    "holidaysSeries"
   ]
  }
 ],
 "metadata": {
  "kernelspec": {
   "display_name": "Python 3 (ipykernel)",
   "language": "python",
   "name": "python3"
  },
  "language_info": {
   "codemirror_mode": {
    "name": "ipython",
    "version": 3
   },
   "file_extension": ".py",
   "mimetype": "text/x-python",
   "name": "python",
   "nbconvert_exporter": "python",
   "pygments_lexer": "ipython3",
   "version": "3.9.7"
  }
 },
 "nbformat": 4,
 "nbformat_minor": 5
}
